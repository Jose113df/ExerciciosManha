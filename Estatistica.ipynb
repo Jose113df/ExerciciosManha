{
 "cells": [
  {
   "cell_type": "markdown",
   "metadata": {},
   "source": [
    "# Censo"
   ]
  },
  {
   "cell_type": "markdown",
   "metadata": {},
   "source": [
    "O Censo Demográfico do IBGE é uma grande pesquisa que ocorre a cada 10 anos, onde recenseadores vão de casa em casa preenchendo um enorme cadastro com informações detalhadas sobre a população do país. No Censo 2010 foram mais de 190 mil técnicos visitando 67,6 milhões de domicílios nos 5.565 municípios brasileiros, desenhando um grande retrato da população brasileira e das suas características sócio-econômicas servindo como base para o planejamento público e privado da próxima década."
   ]
  },
  {
   "cell_type": "markdown",
   "metadata": {},
   "source": [
    "# PNAD"
   ]
  },
  {
   "cell_type": "markdown",
   "metadata": {},
   "source": [
    "PNAD já é uma pesquisa que complementa e atualiza os dados captados pelo Censo Demográfico, produzindo informações contínuas sobre a população, tal como a inserção no mercado de trabalho, associada a características demográficas e de educação, contribuindo ao estudo do desenvolvimento socioeconômico do País. A pesquisa por amostra domicílio também contribui ao monitoramento de informações muito relevantes para atuação das política públicas, como trabalho infantil e outras formas de trabalho, migração, fecundidade etc."
   ]
  },
  {
   "cell_type": "markdown",
   "metadata": {},
   "source": [
    "# Busca de padrões\n",
    "![alt text](exemplo-estatistica-descritiva-A9.jpg)\n"
   ]
  },
  {
   "cell_type": "markdown",
   "metadata": {},
   "source": [
    "# Medidas Estátisticas\n",
    "\n",
    "![alt text](cap_desc_medidas_posicao_dispersao2.png)"
   ]
  },
  {
   "cell_type": "markdown",
   "metadata": {},
   "source": [
    "\n",
    "\n",
    "Amostras\n",
    "![alt text](planejamento-estratégico-tático-e-operacional-02.png)\n",
    "tabela"
   ]
  },
  {
   "cell_type": "markdown",
   "metadata": {},
   "source": [
    "media e variancia."
   ]
  }
 ],
 "metadata": {
  "language_info": {
   "name": "python"
  }
 },
 "nbformat": 4,
 "nbformat_minor": 2
}
