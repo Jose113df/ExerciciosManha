{
 "cells": [
  {
   "cell_type": "markdown",
   "metadata": {},
   "source": [
    "Criar uma classe produto com uma função para calcular o valor total desse produto."
   ]
  },
  {
   "cell_type": "code",
   "execution_count": 1,
   "metadata": {},
   "outputs": [
    {
     "name": "stdout",
     "output_type": "stream",
     "text": [
      "Alo mundo\n"
     ]
    }
   ],
   "source": [
    "print(\"Alo mundo\")"
   ]
  },
  {
   "cell_type": "markdown",
   "metadata": {},
   "source": [
    "Lista de regras\n",
    "- A classe é um conjunto de objetos.\n",
    "- A classe agrupa objetos em comum.\n",
    "- A classe possui um construtor  __init__.\n",
    "- As caracteristicas dos objetos são atributos.\n",
    "- Os metodos de trabalho (workers) são metodos para calcular, desenvolver a lógica de programação.\n"
   ]
  },
  {
   "cell_type": "code",
   "execution_count": 8,
   "metadata": {},
   "outputs": [],
   "source": [
    "class produto:\n",
    "    def __init__(self,qtde,preco):\n",
    "        self.qtde = qtde\n",
    "        self.preco = preco\n",
    "        \n",
    "    def calcular_total(self):\n",
    "        return self.qtde * self.preco"
   ]
  },
  {
   "cell_type": "code",
   "execution_count": 11,
   "metadata": {},
   "outputs": [
    {
     "name": "stdout",
     "output_type": "stream",
     "text": [
      "Ovalor total de melancias é: 100\n"
     ]
    }
   ],
   "source": [
    "p = produto(qtde=10,preco=10)\n",
    "\n",
    "print(f\"Ovalor total de melancias é: {p.calcular_total()}\")"
   ]
  },
  {
   "cell_type": "markdown",
   "metadata": {},
   "source": [
    "- Analise o dataset aluguel.csv da aula passada.\n",
    "- Crie uma classe que representara o arquivo.\n",
    "- Crie 3 objetos imoveis que estão no dataset\n"
   ]
  },
  {
   "cell_type": "code",
   "execution_count": 14,
   "metadata": {},
   "outputs": [],
   "source": [
    "class Coluna:\n",
    "    def __init__(self,quant,bairro,valor):\n",
    "        self.quant=quant\n",
    "        self.bairro=bairro\n",
    "        self.valor=valor\n",
    "    def impressao(self):\n",
    "        return print(self.quant,self.bairro,self.valor)"
   ]
  },
  {
   "cell_type": "code",
   "execution_count": 21,
   "metadata": {},
   "outputs": [
    {
     "name": "stdout",
     "output_type": "stream",
     "text": [
      "1 Copacabana 100000\n",
      "None\n"
     ]
    }
   ],
   "source": [
    "p = Coluna(quant=1,bairro=\"Copacabana\",valor=100000)\n",
    "print(p.impressao())"
   ]
  }
 ],
 "metadata": {
  "kernelspec": {
   "display_name": ".venv",
   "language": "python",
   "name": "python3"
  },
  "language_info": {
   "codemirror_mode": {
    "name": "ipython",
    "version": 3
   },
   "file_extension": ".py",
   "mimetype": "text/x-python",
   "name": "python",
   "nbconvert_exporter": "python",
   "pygments_lexer": "ipython3",
   "version": "3.12.4"
  }
 },
 "nbformat": 4,
 "nbformat_minor": 2
}
